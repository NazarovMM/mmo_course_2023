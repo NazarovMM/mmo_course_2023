{
  "nbformat": 4,
  "nbformat_minor": 0,
  "metadata": {
    "colab": {
      "provenance": [],
      "authorship_tag": "ABX9TyNe/Scjvi8PKUEqQOp0gOAD",
      "include_colab_link": true
    },
    "kernelspec": {
      "name": "python3",
      "display_name": "Python 3"
    },
    "language_info": {
      "name": "python"
    }
  },
  "cells": [
    {
      "cell_type": "markdown",
      "metadata": {
        "id": "view-in-github",
        "colab_type": "text"
      },
      "source": [
        "<a href=\"https://colab.research.google.com/github/NazarovMM/mmo_course_2023/blob/main/RK1/MMO_RK1.ipynb\" target=\"_parent\"><img src=\"https://colab.research.google.com/assets/colab-badge.svg\" alt=\"Open In Colab\"/></a>"
      ]
    },
    {
      "cell_type": "markdown",
      "source": [
        "#Назаров М.М. ИУ5-15М РК1"
      ],
      "metadata": {
        "id": "6ZrKCddIk_gA"
      }
    },
    {
      "cell_type": "code",
      "execution_count": 168,
      "metadata": {
        "id": "L3AHIkPKk8TJ"
      },
      "outputs": [],
      "source": [
        "import pandas as pd\n",
        "import matplotlib.pyplot as plt\n",
        "import numpy as np\n",
        "import seaborn as sns\n",
        "import warnings\n",
        "warnings.simplefilter(\"ignore\", UserWarning)"
      ]
    },
    {
      "cell_type": "markdown",
      "source": [
        "##Задача №10."
      ],
      "metadata": {
        "id": "ML3qPQ0-q5gj"
      }
    },
    {
      "cell_type": "code",
      "source": [
        "#считываем данные из файла csv и создаем датафрейм\n",
        "df = pd.read_csv('/content/dhak city hospital main - dhak city hospital 1.csv final.csv')\n",
        "#вывод первых 5 строк датафрейма\n",
        "df.head()"
      ],
      "metadata": {
        "colab": {
          "base_uri": "https://localhost:8080/",
          "height": 354
        },
        "id": "FxogolBTlPfg",
        "outputId": "326f0bfa-4184-478d-b1dc-1608bc0e3c65"
      },
      "execution_count": 169,
      "outputs": [
        {
          "output_type": "execute_result",
          "data": {
            "text/plain": [
              "                                Name  ratings Number of ratings  \\\n",
              "0  City Hospital & Diagnostic Center      3.8               328   \n",
              "1            DR. AZMAL HOSPITAL LTD.      3.8               132   \n",
              "2            Greenland Hospital Ltd.      4.1                27   \n",
              "3       Gonoshasthaya Nagar Hospital      4.1               146   \n",
              "4            Farabi General Hospital      3.3                27   \n",
              "\n",
              "           catagory                       address open 24 hrs  \\\n",
              "0  Private hospital  House No#1, 8 Satmasjid Road         Yes   \n",
              "1  Private hospital               Plot 5 Rd No. 4         Yes   \n",
              "2          Hospital             House # 112 Rd 13         Yes   \n",
              "3          Hospital       House No, 14/E Rd No. 6         Yes   \n",
              "4  General hospital                    8 Rd No 14          No   \n",
              "\n",
              "                                            link  \\\n",
              "0                 http://www.cityhospitalbd.com/   \n",
              "1                      http://azmalhospital.com/   \n",
              "2  http://general-hospital-uttara.business.site/   \n",
              "3            http://www.gonoshasthayakendra.org/   \n",
              "4                                            NaN   \n",
              "\n",
              "                                            comments  \n",
              "0  \"Not bad at all. Need some improvement in envi...  \n",
              "1                               \" Very Good service\"  \n",
              "2                                                NaN  \n",
              "3  \"They really work for all! Doctors and staffs ...  \n",
              "4  \"Services for all specialty of medical care is...  "
            ],
            "text/html": [
              "\n",
              "  <div id=\"df-eba48094-f1b5-4a4b-bb8b-99a9576352ce\">\n",
              "    <div class=\"colab-df-container\">\n",
              "      <div>\n",
              "<style scoped>\n",
              "    .dataframe tbody tr th:only-of-type {\n",
              "        vertical-align: middle;\n",
              "    }\n",
              "\n",
              "    .dataframe tbody tr th {\n",
              "        vertical-align: top;\n",
              "    }\n",
              "\n",
              "    .dataframe thead th {\n",
              "        text-align: right;\n",
              "    }\n",
              "</style>\n",
              "<table border=\"1\" class=\"dataframe\">\n",
              "  <thead>\n",
              "    <tr style=\"text-align: right;\">\n",
              "      <th></th>\n",
              "      <th>Name</th>\n",
              "      <th>ratings</th>\n",
              "      <th>Number of ratings</th>\n",
              "      <th>catagory</th>\n",
              "      <th>address</th>\n",
              "      <th>open 24 hrs</th>\n",
              "      <th>link</th>\n",
              "      <th>comments</th>\n",
              "    </tr>\n",
              "  </thead>\n",
              "  <tbody>\n",
              "    <tr>\n",
              "      <th>0</th>\n",
              "      <td>City Hospital &amp; Diagnostic Center</td>\n",
              "      <td>3.8</td>\n",
              "      <td>328</td>\n",
              "      <td>Private hospital</td>\n",
              "      <td>House No#1, 8 Satmasjid Road</td>\n",
              "      <td>Yes</td>\n",
              "      <td>http://www.cityhospitalbd.com/</td>\n",
              "      <td>\"Not bad at all. Need some improvement in envi...</td>\n",
              "    </tr>\n",
              "    <tr>\n",
              "      <th>1</th>\n",
              "      <td>DR. AZMAL HOSPITAL LTD.</td>\n",
              "      <td>3.8</td>\n",
              "      <td>132</td>\n",
              "      <td>Private hospital</td>\n",
              "      <td>Plot 5 Rd No. 4</td>\n",
              "      <td>Yes</td>\n",
              "      <td>http://azmalhospital.com/</td>\n",
              "      <td>\" Very Good service\"</td>\n",
              "    </tr>\n",
              "    <tr>\n",
              "      <th>2</th>\n",
              "      <td>Greenland Hospital Ltd.</td>\n",
              "      <td>4.1</td>\n",
              "      <td>27</td>\n",
              "      <td>Hospital</td>\n",
              "      <td>House # 112 Rd 13</td>\n",
              "      <td>Yes</td>\n",
              "      <td>http://general-hospital-uttara.business.site/</td>\n",
              "      <td>NaN</td>\n",
              "    </tr>\n",
              "    <tr>\n",
              "      <th>3</th>\n",
              "      <td>Gonoshasthaya Nagar Hospital</td>\n",
              "      <td>4.1</td>\n",
              "      <td>146</td>\n",
              "      <td>Hospital</td>\n",
              "      <td>House No, 14/E Rd No. 6</td>\n",
              "      <td>Yes</td>\n",
              "      <td>http://www.gonoshasthayakendra.org/</td>\n",
              "      <td>\"They really work for all! Doctors and staffs ...</td>\n",
              "    </tr>\n",
              "    <tr>\n",
              "      <th>4</th>\n",
              "      <td>Farabi General Hospital</td>\n",
              "      <td>3.3</td>\n",
              "      <td>27</td>\n",
              "      <td>General hospital</td>\n",
              "      <td>8 Rd No 14</td>\n",
              "      <td>No</td>\n",
              "      <td>NaN</td>\n",
              "      <td>\"Services for all specialty of medical care is...</td>\n",
              "    </tr>\n",
              "  </tbody>\n",
              "</table>\n",
              "</div>\n",
              "      <button class=\"colab-df-convert\" onclick=\"convertToInteractive('df-eba48094-f1b5-4a4b-bb8b-99a9576352ce')\"\n",
              "              title=\"Convert this dataframe to an interactive table.\"\n",
              "              style=\"display:none;\">\n",
              "        \n",
              "  <svg xmlns=\"http://www.w3.org/2000/svg\" height=\"24px\"viewBox=\"0 0 24 24\"\n",
              "       width=\"24px\">\n",
              "    <path d=\"M0 0h24v24H0V0z\" fill=\"none\"/>\n",
              "    <path d=\"M18.56 5.44l.94 2.06.94-2.06 2.06-.94-2.06-.94-.94-2.06-.94 2.06-2.06.94zm-11 1L8.5 8.5l.94-2.06 2.06-.94-2.06-.94L8.5 2.5l-.94 2.06-2.06.94zm10 10l.94 2.06.94-2.06 2.06-.94-2.06-.94-.94-2.06-.94 2.06-2.06.94z\"/><path d=\"M17.41 7.96l-1.37-1.37c-.4-.4-.92-.59-1.43-.59-.52 0-1.04.2-1.43.59L10.3 9.45l-7.72 7.72c-.78.78-.78 2.05 0 2.83L4 21.41c.39.39.9.59 1.41.59.51 0 1.02-.2 1.41-.59l7.78-7.78 2.81-2.81c.8-.78.8-2.07 0-2.86zM5.41 20L4 18.59l7.72-7.72 1.47 1.35L5.41 20z\"/>\n",
              "  </svg>\n",
              "      </button>\n",
              "      \n",
              "  <style>\n",
              "    .colab-df-container {\n",
              "      display:flex;\n",
              "      flex-wrap:wrap;\n",
              "      gap: 12px;\n",
              "    }\n",
              "\n",
              "    .colab-df-convert {\n",
              "      background-color: #E8F0FE;\n",
              "      border: none;\n",
              "      border-radius: 50%;\n",
              "      cursor: pointer;\n",
              "      display: none;\n",
              "      fill: #1967D2;\n",
              "      height: 32px;\n",
              "      padding: 0 0 0 0;\n",
              "      width: 32px;\n",
              "    }\n",
              "\n",
              "    .colab-df-convert:hover {\n",
              "      background-color: #E2EBFA;\n",
              "      box-shadow: 0px 1px 2px rgba(60, 64, 67, 0.3), 0px 1px 3px 1px rgba(60, 64, 67, 0.15);\n",
              "      fill: #174EA6;\n",
              "    }\n",
              "\n",
              "    [theme=dark] .colab-df-convert {\n",
              "      background-color: #3B4455;\n",
              "      fill: #D2E3FC;\n",
              "    }\n",
              "\n",
              "    [theme=dark] .colab-df-convert:hover {\n",
              "      background-color: #434B5C;\n",
              "      box-shadow: 0px 1px 3px 1px rgba(0, 0, 0, 0.15);\n",
              "      filter: drop-shadow(0px 1px 2px rgba(0, 0, 0, 0.3));\n",
              "      fill: #FFFFFF;\n",
              "    }\n",
              "  </style>\n",
              "\n",
              "      <script>\n",
              "        const buttonEl =\n",
              "          document.querySelector('#df-eba48094-f1b5-4a4b-bb8b-99a9576352ce button.colab-df-convert');\n",
              "        buttonEl.style.display =\n",
              "          google.colab.kernel.accessAllowed ? 'block' : 'none';\n",
              "\n",
              "        async function convertToInteractive(key) {\n",
              "          const element = document.querySelector('#df-eba48094-f1b5-4a4b-bb8b-99a9576352ce');\n",
              "          const dataTable =\n",
              "            await google.colab.kernel.invokeFunction('convertToInteractive',\n",
              "                                                     [key], {});\n",
              "          if (!dataTable) return;\n",
              "\n",
              "          const docLinkHtml = 'Like what you see? Visit the ' +\n",
              "            '<a target=\"_blank\" href=https://colab.research.google.com/notebooks/data_table.ipynb>data table notebook</a>'\n",
              "            + ' to learn more about interactive tables.';\n",
              "          element.innerHTML = '';\n",
              "          dataTable['output_type'] = 'display_data';\n",
              "          await google.colab.output.renderOutput(dataTable, element);\n",
              "          const docLink = document.createElement('div');\n",
              "          docLink.innerHTML = docLinkHtml;\n",
              "          element.appendChild(docLink);\n",
              "        }\n",
              "      </script>\n",
              "    </div>\n",
              "  </div>\n",
              "  "
            ]
          },
          "metadata": {},
          "execution_count": 169
        }
      ]
    },
    {
      "cell_type": "code",
      "source": [
        "#выводим информацию о датафрейме\n",
        "df.info()"
      ],
      "metadata": {
        "colab": {
          "base_uri": "https://localhost:8080/"
        },
        "id": "SiffTRHDlVrE",
        "outputId": "d202954a-8f23-474c-e65d-bc034e5994e4"
      },
      "execution_count": 170,
      "outputs": [
        {
          "output_type": "stream",
          "name": "stdout",
          "text": [
            "<class 'pandas.core.frame.DataFrame'>\n",
            "RangeIndex: 1100 entries, 0 to 1099\n",
            "Data columns (total 8 columns):\n",
            " #   Column             Non-Null Count  Dtype  \n",
            "---  ------             --------------  -----  \n",
            " 0   Name               1100 non-null   object \n",
            " 1   ratings            867 non-null    float64\n",
            " 2   Number of ratings  861 non-null    object \n",
            " 3   catagory           1100 non-null   object \n",
            " 4   address            1084 non-null   object \n",
            " 5   open 24 hrs        810 non-null    object \n",
            " 6   link               582 non-null    object \n",
            " 7   comments           399 non-null    object \n",
            "dtypes: float64(1), object(7)\n",
            "memory usage: 68.9+ KB\n"
          ]
        }
      ]
    },
    {
      "cell_type": "code",
      "source": [
        "#считаем количество пропущенных значений в столбце ‘open 24 hrs’\n",
        "df['open 24 hrs'].isnull().sum()"
      ],
      "metadata": {
        "colab": {
          "base_uri": "https://localhost:8080/"
        },
        "id": "NMRLM_6WmMqx",
        "outputId": "fb325d3d-2b94-4467-8826-4418ce0f5d8b"
      },
      "execution_count": 171,
      "outputs": [
        {
          "output_type": "execute_result",
          "data": {
            "text/plain": [
              "290"
            ]
          },
          "metadata": {},
          "execution_count": 171
        }
      ]
    },
    {
      "cell_type": "code",
      "source": [
        "#выводим уникальные значения в столбце ‘open 24 hrs’\n",
        "df['open 24 hrs'].unique()"
      ],
      "metadata": {
        "colab": {
          "base_uri": "https://localhost:8080/"
        },
        "id": "Rp6w2wOPmR1W",
        "outputId": "595c4a7e-0c61-423e-9844-3c615fd759d0"
      },
      "execution_count": 172,
      "outputs": [
        {
          "output_type": "execute_result",
          "data": {
            "text/plain": [
              "array(['Yes', 'No', nan, '·', '01715-424437', '02-55067131',\n",
              "       'Temporarily closed'], dtype=object)"
            ]
          },
          "metadata": {},
          "execution_count": 172
        }
      ]
    },
    {
      "cell_type": "code",
      "source": [
        "#выводим количество уникальных значений в столбце ‘open 24 hrs’\n",
        "df['open 24 hrs'].value_counts()"
      ],
      "metadata": {
        "colab": {
          "base_uri": "https://localhost:8080/"
        },
        "id": "Ct9YJhXRnhqq",
        "outputId": "8e397291-262b-46b6-ff52-b37088fe8a79"
      },
      "execution_count": 173,
      "outputs": [
        {
          "output_type": "execute_result",
          "data": {
            "text/plain": [
              "Yes                   509\n",
              "No                    261\n",
              "·                      37\n",
              "01715-424437            1\n",
              "02-55067131             1\n",
              "Temporarily closed      1\n",
              "Name: open 24 hrs, dtype: int64"
            ]
          },
          "metadata": {},
          "execution_count": 173
        }
      ]
    },
    {
      "cell_type": "code",
      "source": [
        "#заполняем пропущенные значения в столбце ‘open 24 hrs’ наиболее часто встречающимся значением.\n",
        "most_common_value = df['open 24 hrs'].mode()[0]\n",
        "df['open 24 hrs'].fillna(most_common_value, inplace=True)"
      ],
      "metadata": {
        "id": "bHtj9aJUmbHO"
      },
      "execution_count": 174,
      "outputs": []
    },
    {
      "cell_type": "code",
      "source": [
        "#считаем количество пропущенных значений в столбце ‘open 24 hrs’\n",
        "df['open 24 hrs'].isnull().sum()"
      ],
      "metadata": {
        "colab": {
          "base_uri": "https://localhost:8080/"
        },
        "id": "oDwe780Gml9R",
        "outputId": "6cdbfb9d-99a4-4da6-cd28-b2da819fc786"
      },
      "execution_count": 175,
      "outputs": [
        {
          "output_type": "execute_result",
          "data": {
            "text/plain": [
              "0"
            ]
          },
          "metadata": {},
          "execution_count": 175
        }
      ]
    },
    {
      "cell_type": "code",
      "source": [
        "#выводим количество уникальных значений в столбце ‘open 24 hrs’\n",
        "df['open 24 hrs'].value_counts()"
      ],
      "metadata": {
        "colab": {
          "base_uri": "https://localhost:8080/"
        },
        "id": "5fs3IWzdqkhm",
        "outputId": "060d5233-e357-4ba3-d524-34ab29464a4a"
      },
      "execution_count": 176,
      "outputs": [
        {
          "output_type": "execute_result",
          "data": {
            "text/plain": [
              "Yes                   799\n",
              "No                    261\n",
              "·                      37\n",
              "01715-424437            1\n",
              "02-55067131             1\n",
              "Temporarily closed      1\n",
              "Name: open 24 hrs, dtype: int64"
            ]
          },
          "metadata": {},
          "execution_count": 176
        }
      ]
    },
    {
      "cell_type": "markdown",
      "source": [
        "##Задание для группы ИУ5-25М - для произвольной колонки данных построить парные диаграммы (pairplot)."
      ],
      "metadata": {
        "id": "OEUVnfrTx2A3"
      }
    },
    {
      "cell_type": "code",
      "source": [
        "sns.pairplot(df[['ratings', 'Number of ratings']], height=3, aspect=2)"
      ],
      "metadata": {
        "colab": {
          "base_uri": "https://localhost:8080/",
          "height": 334
        },
        "id": "gsHYo4YTv1x6",
        "outputId": "f7b315ec-4135-44c7-aada-696563d014fd"
      },
      "execution_count": 177,
      "outputs": [
        {
          "output_type": "execute_result",
          "data": {
            "text/plain": [
              "<seaborn.axisgrid.PairGrid at 0x7fdb7e69cd30>"
            ]
          },
          "metadata": {},
          "execution_count": 177
        },
        {
          "output_type": "display_data",
          "data": {
            "text/plain": [
              "<Figure size 600x300 with 2 Axes>"
            ],
            "image/png": "[encoded data removed]"
          },
          "metadata": {}
        }
      ]
    },
    {
      "cell_type": "markdown",
      "source": [
        "##Задача №30."
      ],
      "metadata": {
        "id": "IaOCVHeHrETR"
      }
    },
    {
      "cell_type": "code",
      "source": [
        "#считываем данные из файла csv и создаем датафрейм2\n",
        "df2 = pd.read_csv('/content/steam-200k.csv')"
      ],
      "metadata": {
        "id": "og-PU97Ksuqd"
      },
      "execution_count": 178,
      "outputs": []
    },
    {
      "cell_type": "code",
      "source": [
        "##вывод первых 5 строк датафрейма 2\n",
        "df2.head()"
      ],
      "metadata": {
        "colab": {
          "base_uri": "https://localhost:8080/",
          "height": 206
        },
        "id": "EYOcy3YXuU27",
        "outputId": "4d8fb223-959c-4e04-c565-6b2d5502d237"
      },
      "execution_count": 179,
      "outputs": [
        {
          "output_type": "execute_result",
          "data": {
            "text/plain": [
              "   151603712  The Elder Scrolls V Skyrim  purchase    1.0  0\n",
              "0  151603712  The Elder Scrolls V Skyrim      play  273.0  0\n",
              "1  151603712                   Fallout 4  purchase    1.0  0\n",
              "2  151603712                   Fallout 4      play   87.0  0\n",
              "3  151603712                       Spore  purchase    1.0  0\n",
              "4  151603712                       Spore      play   14.9  0"
            ],
            "text/html": [
              "\n",
              "  <div id=\"df-24098fa7-0cc9-4504-9caf-069d54577738\">\n",
              "    <div class=\"colab-df-container\">\n",
              "      <div>\n",
              "<style scoped>\n",
              "    .dataframe tbody tr th:only-of-type {\n",
              "        vertical-align: middle;\n",
              "    }\n",
              "\n",
              "    .dataframe tbody tr th {\n",
              "        vertical-align: top;\n",
              "    }\n",
              "\n",
              "    .dataframe thead th {\n",
              "        text-align: right;\n",
              "    }\n",
              "</style>\n",
              "<table border=\"1\" class=\"dataframe\">\n",
              "  <thead>\n",
              "    <tr style=\"text-align: right;\">\n",
              "      <th></th>\n",
              "      <th>151603712</th>\n",
              "      <th>The Elder Scrolls V Skyrim</th>\n",
              "      <th>purchase</th>\n",
              "      <th>1.0</th>\n",
              "      <th>0</th>\n",
              "    </tr>\n",
              "  </thead>\n",
              "  <tbody>\n",
              "    <tr>\n",
              "      <th>0</th>\n",
              "      <td>151603712</td>\n",
              "      <td>The Elder Scrolls V Skyrim</td>\n",
              "      <td>play</td>\n",
              "      <td>273.0</td>\n",
              "      <td>0</td>\n",
              "    </tr>\n",
              "    <tr>\n",
              "      <th>1</th>\n",
              "      <td>151603712</td>\n",
              "      <td>Fallout 4</td>\n",
              "      <td>purchase</td>\n",
              "      <td>1.0</td>\n",
              "      <td>0</td>\n",
              "    </tr>\n",
              "    <tr>\n",
              "      <th>2</th>\n",
              "      <td>151603712</td>\n",
              "      <td>Fallout 4</td>\n",
              "      <td>play</td>\n",
              "      <td>87.0</td>\n",
              "      <td>0</td>\n",
              "    </tr>\n",
              "    <tr>\n",
              "      <th>3</th>\n",
              "      <td>151603712</td>\n",
              "      <td>Spore</td>\n",
              "      <td>purchase</td>\n",
              "      <td>1.0</td>\n",
              "      <td>0</td>\n",
              "    </tr>\n",
              "    <tr>\n",
              "      <th>4</th>\n",
              "      <td>151603712</td>\n",
              "      <td>Spore</td>\n",
              "      <td>play</td>\n",
              "      <td>14.9</td>\n",
              "      <td>0</td>\n",
              "    </tr>\n",
              "  </tbody>\n",
              "</table>\n",
              "</div>\n",
              "      <button class=\"colab-df-convert\" onclick=\"convertToInteractive('df-24098fa7-0cc9-4504-9caf-069d54577738')\"\n",
              "              title=\"Convert this dataframe to an interactive table.\"\n",
              "              style=\"display:none;\">\n",
              "        \n",
              "  <svg xmlns=\"http://www.w3.org/2000/svg\" height=\"24px\"viewBox=\"0 0 24 24\"\n",
              "       width=\"24px\">\n",
              "    <path d=\"M0 0h24v24H0V0z\" fill=\"none\"/>\n",
              "    <path d=\"M18.56 5.44l.94 2.06.94-2.06 2.06-.94-2.06-.94-.94-2.06-.94 2.06-2.06.94zm-11 1L8.5 8.5l.94-2.06 2.06-.94-2.06-.94L8.5 2.5l-.94 2.06-2.06.94zm10 10l.94 2.06.94-2.06 2.06-.94-2.06-.94-.94-2.06-.94 2.06-2.06.94z\"/><path d=\"M17.41 7.96l-1.37-1.37c-.4-.4-.92-.59-1.43-.59-.52 0-1.04.2-1.43.59L10.3 9.45l-7.72 7.72c-.78.78-.78 2.05 0 2.83L4 21.41c.39.39.9.59 1.41.59.51 0 1.02-.2 1.41-.59l7.78-7.78 2.81-2.81c.8-.78.8-2.07 0-2.86zM5.41 20L4 18.59l7.72-7.72 1.47 1.35L5.41 20z\"/>\n",
              "  </svg>\n",
              "      </button>\n",
              "      \n",
              "  <style>\n",
              "    .colab-df-container {\n",
              "      display:flex;\n",
              "      flex-wrap:wrap;\n",
              "      gap: 12px;\n",
              "    }\n",
              "\n",
              "    .colab-df-convert {\n",
              "      background-color: #E8F0FE;\n",
              "      border: none;\n",
              "      border-radius: 50%;\n",
              "      cursor: pointer;\n",
              "      display: none;\n",
              "      fill: #1967D2;\n",
              "      height: 32px;\n",
              "      padding: 0 0 0 0;\n",
              "      width: 32px;\n",
              "    }\n",
              "\n",
              "    .colab-df-convert:hover {\n",
              "      background-color: #E2EBFA;\n",
              "      box-shadow: 0px 1px 2px rgba(60, 64, 67, 0.3), 0px 1px 3px 1px rgba(60, 64, 67, 0.15);\n",
              "      fill: #174EA6;\n",
              "    }\n",
              "\n",
              "    [theme=dark] .colab-df-convert {\n",
              "      background-color: #3B4455;\n",
              "      fill: #D2E3FC;\n",
              "    }\n",
              "\n",
              "    [theme=dark] .colab-df-convert:hover {\n",
              "      background-color: #434B5C;\n",
              "      box-shadow: 0px 1px 3px 1px rgba(0, 0, 0, 0.15);\n",
              "      filter: drop-shadow(0px 1px 2px rgba(0, 0, 0, 0.3));\n",
              "      fill: #FFFFFF;\n",
              "    }\n",
              "  </style>\n",
              "\n",
              "      <script>\n",
              "        const buttonEl =\n",
              "          document.querySelector('#df-24098fa7-0cc9-4504-9caf-069d54577738 button.colab-df-convert');\n",
              "        buttonEl.style.display =\n",
              "          google.colab.kernel.accessAllowed ? 'block' : 'none';\n",
              "\n",
              "        async function convertToInteractive(key) {\n",
              "          const element = document.querySelector('#df-24098fa7-0cc9-4504-9caf-069d54577738');\n",
              "          const dataTable =\n",
              "            await google.colab.kernel.invokeFunction('convertToInteractive',\n",
              "                                                     [key], {});\n",
              "          if (!dataTable) return;\n",
              "\n",
              "          const docLinkHtml = 'Like what you see? Visit the ' +\n",
              "            '<a target=\"_blank\" href=https://colab.research.google.com/notebooks/data_table.ipynb>data table notebook</a>'\n",
              "            + ' to learn more about interactive tables.';\n",
              "          element.innerHTML = '';\n",
              "          dataTable['output_type'] = 'display_data';\n",
              "          await google.colab.output.renderOutput(dataTable, element);\n",
              "          const docLink = document.createElement('div');\n",
              "          docLink.innerHTML = docLinkHtml;\n",
              "          element.appendChild(docLink);\n",
              "        }\n",
              "      </script>\n",
              "    </div>\n",
              "  </div>\n",
              "  "
            ]
          },
          "metadata": {},
          "execution_count": 179
        }
      ]
    },
    {
      "cell_type": "code",
      "source": [
        "#выводим информацию о датафрейме 2\n",
        "df2.info()"
      ],
      "metadata": {
        "colab": {
          "base_uri": "https://localhost:8080/"
        },
        "id": "czqubY_uuHDV",
        "outputId": "e2c98b3f-5b10-4edf-ad86-513f7dab93b5"
      },
      "execution_count": 180,
      "outputs": [
        {
          "output_type": "stream",
          "name": "stdout",
          "text": [
            "<class 'pandas.core.frame.DataFrame'>\n",
            "RangeIndex: 199999 entries, 0 to 199998\n",
            "Data columns (total 5 columns):\n",
            " #   Column                      Non-Null Count   Dtype  \n",
            "---  ------                      --------------   -----  \n",
            " 0   151603712                   199999 non-null  int64  \n",
            " 1   The Elder Scrolls V Skyrim  199999 non-null  object \n",
            " 2   purchase                    199999 non-null  object \n",
            " 3   1.0                         199999 non-null  float64\n",
            " 4   0                           199999 non-null  int64  \n",
            "dtypes: float64(1), int64(2), object(2)\n",
            "memory usage: 7.6+ MB\n"
          ]
        }
      ]
    },
    {
      "cell_type": "code",
      "source": [
        "#находим дубликаты в DataFrame и выводим их(если они есть)\n",
        "duplicates = df2[df2.duplicated()]\n",
        "\n",
        "print(duplicates)"
      ],
      "metadata": {
        "colab": {
          "base_uri": "https://localhost:8080/"
        },
        "id": "Jp-sP3RCsGdK",
        "outputId": "4ff1b48c-4cd0-46aa-bec7-2f1b3d7ba070"
      },
      "execution_count": 181,
      "outputs": [
        {
          "output_type": "stream",
          "name": "stdout",
          "text": [
            "        151603712                    The Elder Scrolls V Skyrim  purchase  \\\n",
            "1967     11373749                   Sid Meier's Civilization IV  purchase   \n",
            "1969     11373749  Sid Meier's Civilization IV Beyond the Sword  purchase   \n",
            "1971     11373749          Sid Meier's Civilization IV Warlords  purchase   \n",
            "2723     56038151                  Grand Theft Auto San Andreas  purchase   \n",
            "2725     56038151                    Grand Theft Auto Vice City  purchase   \n",
            "...           ...                                           ...       ...   \n",
            "194391   39146470          Sid Meier's Civilization IV Warlords  purchase   \n",
            "195516   48666962                                      Crysis 2  purchase   \n",
            "195820  112845094                  Grand Theft Auto San Andreas  purchase   \n",
            "195822  112845094                    Grand Theft Auto Vice City  purchase   \n",
            "195823  112845094                          Grand Theft Auto III  purchase   \n",
            "\n",
            "        1.0  0  \n",
            "1967    1.0  0  \n",
            "1969    1.0  0  \n",
            "1971    1.0  0  \n",
            "2723    1.0  0  \n",
            "2725    1.0  0  \n",
            "...     ... ..  \n",
            "194391  1.0  0  \n",
            "195516  1.0  0  \n",
            "195820  1.0  0  \n",
            "195822  1.0  0  \n",
            "195823  1.0  0  \n",
            "\n",
            "[707 rows x 5 columns]\n"
          ]
        }
      ]
    },
    {
      "cell_type": "code",
      "source": [
        "#удаляем дубликаты из DataFrame.\n",
        "df2.drop_duplicates(inplace=True)"
      ],
      "metadata": {
        "id": "ReaYBgoCulPq"
      },
      "execution_count": 182,
      "outputs": []
    },
    {
      "cell_type": "code",
      "source": [
        "#находим дубликаты в DataFrame и выводим их(если они есть)\n",
        "duplicates = df2[df2.duplicated()]\n",
        "\n",
        "print(duplicates)"
      ],
      "metadata": {
        "colab": {
          "base_uri": "https://localhost:8080/"
        },
        "id": "ApKhbrUNumEH",
        "outputId": "d4153e40-7472-4817-be3f-ceac72b1dc2b"
      },
      "execution_count": 183,
      "outputs": [
        {
          "output_type": "stream",
          "name": "stdout",
          "text": [
            "Empty DataFrame\n",
            "Columns: [151603712, The Elder Scrolls V Skyrim, purchase, 1.0, 0]\n",
            "Index: []\n"
          ]
        }
      ]
    }
  ]
}